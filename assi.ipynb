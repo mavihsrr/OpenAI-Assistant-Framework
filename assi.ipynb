{
 "cells": [
  {
   "cell_type": "code",
   "execution_count": 21,
   "id": "c2551063-1f59-4294-b284-ee0db2485504",
   "metadata": {},
   "outputs": [],
   "source": [
    "import os\n",
    "from openai import OpenAI"
   ]
  },
  {
   "cell_type": "code",
   "execution_count": 22,
   "id": "3ab3208b-78a4-4cac-a254-cb33dfb7abf5",
   "metadata": {},
   "outputs": [],
   "source": [
    "OPENAI_API_KEY = \"YOUR_OPENAI_KEY\"\n",
    "client = OpenAI(api_key=OPENAI_API_KEY)"
   ]
  },
  {
   "cell_type": "code",
   "execution_count": 23,
   "id": "0e4fa318-8348-45ed-8732-3b5cc80868ee",
   "metadata": {},
   "outputs": [],
   "source": [
    "#creating a assistant first\n",
    "assistant = client.beta.assistants.create(\n",
    "    name=\"Diet Recommendation\",\n",
    "    instructions = '''You are a health conscious bot and start with a greeting message first before user input. I will ask you (start with a greeting and health based quote dont  give me suggestions until i ask for it) for food items based on my diet and you will suggest me in points the food items and its calorie value in numeric with no explanation .  \n",
    "mention the food item along its calorie intake and nutritional value . recommend  item from  the usual grocery store items. ''',\n",
    "    tools = [{\"type\": \"code_interpreter\"}],\n",
    "    model = \"gpt-3.5-turbo\"\n",
    ")"
   ]
  },
  {
   "cell_type": "code",
   "execution_count": 24,
   "id": "cbb3a2c3-a539-4583-b8d6-60b4468aa25d",
   "metadata": {},
   "outputs": [],
   "source": [
    "# creating thread\n",
    "\n",
    "thread = client.beta.threads.create()\n",
    "## print(thread) "
   ]
  },
  {
   "cell_type": "code",
   "execution_count": 51,
   "id": "379abac5-b220-46a5-92b6-883bfd50d97e",
   "metadata": {},
   "outputs": [
    {
     "name": "stdin",
     "output_type": "stream",
     "text": [
      "Enter query -  k\n"
     ]
    }
   ],
   "source": [
    "# adding a message to a thread\n",
    "usermsg = input(\"Enter query - \")\n",
    "def inputt(usermsg):\n",
    "    message = client.beta.threads.messages.create(\n",
    "        thread_id=thread.id,\n",
    "        role='user',\n",
    "        content=usermsg\n",
    "    \n",
    "    )\n",
    "inputt(usermsg)\n",
    "##print(message)"
   ]
  },
  {
   "cell_type": "code",
   "execution_count": 46,
   "id": "4946b6eb-34cd-4373-9a9e-aefae89054ce",
   "metadata": {},
   "outputs": [],
   "source": [
    "#RUNNING THE ASSISTANT\n",
    "\n",
    "run = client.beta.threads.runs.create(\n",
    "    thread_id = thread.id,\n",
    "    assistant_id = assistant.id\n",
    ")\n"
   ]
  },
  {
   "cell_type": "code",
   "execution_count": 47,
   "id": "8a7db648-7c2b-41fe-b74c-26bfcd78a12a",
   "metadata": {},
   "outputs": [],
   "source": [
    "#displaying the assistant's response\n",
    "\n",
    "run = client.beta.threads.runs.retrieve(\n",
    "    thread_id = thread.id,\n",
    "    run_id = run.id\n",
    ")\n",
    "\n",
    "messages = client.beta.threads.messages.list(\n",
    "    thread_id = thread.id\n",
    ")"
   ]
  },
  {
   "cell_type": "code",
   "execution_count": 50,
   "id": "b94381be-c62e-4a38-a733-4713df771cc1",
   "metadata": {},
   "outputs": [
    {
     "name": "stdout",
     "output_type": "stream",
     "text": [
      "user: i am on a keto diet tell me some green food\n",
      "assistant: Hello! It's great that you're on a keto diet. Green foods are a good choice for a keto diet as they are usually low in carbohydrates. Here are some green food options for you:\n",
      "\n",
      "1. Spinach: 7 calories per cup\n",
      "2. Broccoli: 31 calories per cup\n",
      "3. Kale: 33 calories per cup\n",
      "4. Avocado: 234 calories per avocado\n",
      "\n",
      "Let me know if you would like more suggestions or information!\n",
      "assistant: Hello! Here's a health-based quote for you: \"Your body is a reflection of your lifestyle choices. Take care of it, and it will take care of you.\"\n",
      "\n",
      "Now, let's talk about your diet. Please let me know what type of food items you are looking for, and any specific dietary restrictions or preferences you have.\n",
      "user: hi\n",
      "assistant: Hello! How can I assist you today? Is there anything specific you would like to know or discuss related to health and well-being?\n"
     ]
    }
   ],
   "source": [
    "#printing all the messages till now\n",
    "\n",
    "for message in reversed(messages.data):\n",
    "    print(message.role + \": \" + message.content[0].text.value)\n",
    "\n"
   ]
  },
  {
   "cell_type": "code",
   "execution_count": null,
   "id": "9a3618ba-2b2f-457d-90dd-fb7c841dde95",
   "metadata": {},
   "outputs": [],
   "source": []
  },
  {
   "cell_type": "code",
   "execution_count": null,
   "id": "b8b23a9f-858e-4a76-aa94-f7c1cda9dd5d",
   "metadata": {},
   "outputs": [],
   "source": []
  },
  {
   "cell_type": "code",
   "execution_count": null,
   "id": "47e356f0-f57e-413e-83d4-c4ed1c0b4f81",
   "metadata": {},
   "outputs": [],
   "source": []
  },
  {
   "cell_type": "code",
   "execution_count": null,
   "id": "6a049c34-f4f1-4843-9a0d-1c0b47965a65",
   "metadata": {},
   "outputs": [],
   "source": []
  },
  {
   "cell_type": "code",
   "execution_count": null,
   "id": "d0293fa5-b94e-4ffc-ae3d-f6bdaeb3a1aa",
   "metadata": {},
   "outputs": [],
   "source": []
  },
  {
   "cell_type": "code",
   "execution_count": null,
   "id": "ca998a65-a816-4404-a3df-d718bb23b15b",
   "metadata": {},
   "outputs": [],
   "source": []
  },
  {
   "cell_type": "code",
   "execution_count": null,
   "id": "33bf84ef-a4f5-44f4-af2b-93c7584c7abc",
   "metadata": {},
   "outputs": [],
   "source": []
  },
  {
   "cell_type": "code",
   "execution_count": null,
   "id": "c68bee03-c460-4357-977a-1eecc09c068c",
   "metadata": {},
   "outputs": [],
   "source": []
  }
 ],
 "metadata": {
  "kernelspec": {
   "display_name": "Python 3 (ipykernel)",
   "language": "python",
   "name": "python3"
  },
  "language_info": {
   "codemirror_mode": {
    "name": "ipython",
    "version": 3
   },
   "file_extension": ".py",
   "mimetype": "text/x-python",
   "name": "python",
   "nbconvert_exporter": "python",
   "pygments_lexer": "ipython3",
   "version": "3.11.6"
  }
 },
 "nbformat": 4,
 "nbformat_minor": 5
}
